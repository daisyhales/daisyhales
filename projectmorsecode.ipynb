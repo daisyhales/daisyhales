{
 "cells": [
  {
   "cell_type": "code",
   "execution_count": 8,
   "id": "04c57141-c5ba-4025-9688-a6c3fcc94322",
   "metadata": {},
   "outputs": [
    {
     "name": "stdin",
     "output_type": "stream",
     "text": [
      "Convert to morse code: vuk\n"
     ]
    },
    {
     "data": {
      "text/plain": [
       "'...- ..- -.-'"
      ]
     },
     "execution_count": 8,
     "metadata": {},
     "output_type": "execute_result"
    }
   ],
   "source": [
    "def to_morse_code():\n",
    "    \"\"\"converts a sentence, words, letters or numbers inclusing punctuation into morse code. Will separate words with a pipe | \n",
    "    if there is a value that is not in the dictionary morse_code in the input it will output # for that item \"\"\"\n",
    "    to_convert = str(input(\"Convert to morse code:\"))\n",
    "    list_to_convert = list(to_convert)\n",
    "    \n",
    "    morse_code = {'1': '.--- ', '2': '..-- ', '3': '...-- ',\n",
    "           '4': '....- ', '5': '..... ', '6': '-.... ',\n",
    "           '7':'--... ', '8':'---.. ', '9':'----. ', '0': '----- ', \n",
    "            \n",
    "            'a':'.- ', 'b':'-... ', 'c':'-.-. ', 'd': '-.. ', 'e':'. ' ,\n",
    "            'f': '..-. ', 'g': '--. ', 'h': '---- ', 'i':'.. ', \n",
    "            'j':'.--- ', 'k':'-.- ', 'l':'.-.. ', 'm':'-- ', \n",
    "            'n':'-. ', 'o':'--- ', 'p':'.--. ', 'q': '--.- ', 'r':'.-. ', \n",
    "            's':'... ', 't':'- ', 'u':'..- ', 'v':'...- ', 'w':'.-- ',\n",
    "            'x':'-..- ', 'y': '-.-- ', 'z': '--.. ',\n",
    "                  \n",
    "            'A':'.- ', 'B':'-... ', 'C':'-.-. ', 'D': '-.. ', 'E':'. ' ,\n",
    "            'F': '..-. ', 'G': '--. ', 'H': '---- ', 'I':'.. ', \n",
    "            'J':'.--- ', 'K':'-.- ', 'L':'.-.. ', 'M':'-- ', \n",
    "            'N':'-. ', 'O':'--- ', 'P':'.--. ', 'Q': '--.- ', 'r':'.-. ', \n",
    "            'S':'... ', 'T':'- ', 'U':'..- ', 'V':'...- ', 'W':'.-- ',\n",
    "            'X':'-..- ', 'Y': '-.-- ', 'Z': '--.. ',\n",
    "                 \n",
    "            '?': '..--.. ', '!': '-.-.-- ', '.': '.-.-.- ', ',':'--..-- ', ';':'-.-.- ',\n",
    "            ':':'---... ', '+': '.-.-. ', '-':'-....- ', '/':'-..-. ', '=': '-...- ',\n",
    "            \n",
    "            ' ': '| '}\n",
    "    output_list = []\n",
    "    \n",
    "    for i in list_to_convert:\n",
    "        if i in morse_code:\n",
    "            output_list.append(morse_code[i])\n",
    "        else:\n",
    "            output_list.append('# ')\n",
    "        \n",
    "    output = ''.join(output_list)\n",
    "        \n",
    "    return output[:-1] # -1 will remove the last space before the string ends - can then be directly copied into from_morse_code\n",
    "\n",
    "to_morse_code()"
   ]
  },
  {
   "cell_type": "code",
   "execution_count": 7,
   "id": "258b3ef4-723d-45b1-9405-584ab434ff5f",
   "metadata": {},
   "outputs": [
    {
     "name": "stdin",
     "output_type": "stream",
     "text": [
      "Convert from morse code: ... --- ...\n"
     ]
    },
    {
     "data": {
      "text/plain": [
       "'sos'"
      ]
     },
     "execution_count": 7,
     "metadata": {},
     "output_type": "execute_result"
    }
   ],
   "source": [
    "def get_key(val, dictionary, output_list):\n",
    "        for key, value in dictionary.items():\n",
    "            if val == value:\n",
    "                output_list.append(key)\n",
    "            else:\n",
    "                output_list.append('#')\n",
    "\n",
    "def from_morse_code():\n",
    "    \"\"\"converts morse code to a string where words are separated by a pipe | and individual \n",
    "    characters are separated by a space ' ' \"\"\"\n",
    "    to_convert = str(input(\"Convert from morse code:\"))\n",
    "    \n",
    "    morse_code = {'1': '.---', '2': '..--', '3': '...--',\n",
    "           '4': '....-', '5': '.....', '6': '-....',\n",
    "           '7':'--...', '8':'---..', '9':'----.', '0': '-----', \n",
    "            \n",
    "            'a':'.-', 'b':'-...', 'c':'-.-.', 'd': '-..', 'e':'.' ,\n",
    "            'f': '..-.', 'g': '--.', 'h': '----', 'i':'..', \n",
    "            'j':'.---', 'k':'-.-', 'l':'.-..', 'm':'--', \n",
    "            'n':'-.', 'o':'---', 'p':'.--.', 'q': '--.-', 'r':'.-.', \n",
    "            's':'...', 't':'-', 'u':'..-', 'v':'...-', 'w':'.--',\n",
    "            'x':'-..-', 'y': '-.--', 'z': '--..',\n",
    "                  \n",
    "#             'A':'.- ', 'B':'-... ', 'C':'-.-. ', 'D': '-.. ', 'E':'. ' ,\n",
    "#             'F': '..-. ', 'G': '--. ', 'H': '---- ', 'I':'.. ', \n",
    "#             'J':'.--- ', 'K':'-.- ', 'L':'.-.. ', 'M':'-- ', \n",
    "#             'N':'-. ', 'O':'--- ', 'P':'.--. ', 'Q': '--.- ', 'r':'.-. ', \n",
    "#             'S':'... ', 'T':'- ', 'U':'..- ', 'V':'...- ', 'W':'.-- ',\n",
    "#             'X':'-..- ', 'Y': '-.-- ', 'Z': '--.. ',\n",
    "                 \n",
    "            '?': '..--..', '!': '-.-.--', '.': '.-.-.-', ',':'--..--', ';':'-.-.-',\n",
    "            ':':'---...', '+': '.-.-.', '-':'-....-', '/':'-..-.', '=': '-...-',\n",
    "            \n",
    "            ' ': '|', '#' : '#'}\n",
    "    \n",
    "    # needs to stop at the space to set as an item\n",
    "    \n",
    "    list_of_items = to_convert.split(' ')\n",
    "#     print(list_of_items)\n",
    "    \n",
    "    output_list = []\n",
    "    \n",
    "    \n",
    "#         if value in list_of_items:\n",
    "    for val in list_of_items:\n",
    "        for key, value in morse_code.items(): \n",
    "            if val == value:\n",
    "                output_list.append(key)\n",
    "#             else:\n",
    "#                 output_list.append('#')\n",
    "    \n",
    "\n",
    "    output = ''.join(output_list)\n",
    "    \n",
    "    return output\n",
    "\n",
    "from_morse_code()"
   ]
  },
  {
   "cell_type": "code",
   "execution_count": null,
   "id": "179a1900-f464-4bed-a299-678aba927491",
   "metadata": {},
   "outputs": [],
   "source": []
  },
  {
   "cell_type": "code",
   "execution_count": null,
   "id": "b4439b0f-812a-4d2c-962b-09619865020e",
   "metadata": {},
   "outputs": [],
   "source": []
  }
 ],
 "metadata": {
  "kernelspec": {
   "display_name": "Python 3",
   "language": "python",
   "name": "python3"
  },
  "language_info": {
   "codemirror_mode": {
    "name": "ipython",
    "version": 3
   },
   "file_extension": ".py",
   "mimetype": "text/x-python",
   "name": "python",
   "nbconvert_exporter": "python",
   "pygments_lexer": "ipython3",
   "version": "3.8.8"
  }
 },
 "nbformat": 4,
 "nbformat_minor": 5
}
