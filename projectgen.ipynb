{
 "cells": [
  {
   "cell_type": "code",
   "execution_count": 11,
   "id": "6eeecde9-3022-465b-8925-6f8613921b83",
   "metadata": {},
   "outputs": [
    {
     "name": "stdout",
     "output_type": "stream",
     "text": [
      "['l', 'l', 'o', 'o', 'e', 'r', 'w', 'l', 'd', 'h']\n"
     ]
    }
   ],
   "source": [
    "# random password generator\n",
    "import random\n",
    "from random import shuffle\n",
    "\n",
    "def split_up(word1, word2):\n",
    "    return list(word1) + list(word2)\n",
    "\n",
    "list1 = (split_up('hello', 'world'))\n",
    "random.shuffle(list1)\n",
    "print(list1)"
   ]
  },
  {
   "cell_type": "code",
   "execution_count": 2,
   "id": "df0dcc8f-ea14-457c-ad7b-cd30da183555",
   "metadata": {},
   "outputs": [
    {
     "name": "stdout",
     "output_type": "stream",
     "text": [
      "hooll\n"
     ]
    }
   ],
   "source": [
    "#  length of the password?\n",
    "def password_generator(word1, word2, length_of_password):\n",
    "    \"\"\"randomly generates a password through a combination of the two input words\"\"\"\n",
    "    import random\n",
    "    \n",
    "    split_list = list(word1) + list(word2)\n",
    "    \n",
    "    random.shuffle(split_list)\n",
    "    \n",
    "    password_shuffled = []\n",
    "    \n",
    "    for i in range(length_of_password):\n",
    "        password_shuffled.append(random.choice(split_list))\n",
    "    \n",
    "    random.shuffle(password_shuffled)\n",
    "    \n",
    "    password = ''.join(password_shuffled)\n",
    "    \n",
    "    return password\n",
    "\n",
    "print(password_generator('hello', 'world', 5))"
   ]
  },
  {
   "cell_type": "code",
   "execution_count": 3,
   "id": "64c26512-8400-45c1-a605-8112c794411a",
   "metadata": {},
   "outputs": [
    {
     "name": "stdin",
     "output_type": "stream",
     "text": [
      "Length of the password to create: 4\n",
      "Number of words to input: 1\n",
      "Word 1: upto\n"
     ]
    },
    {
     "name": "stdout",
     "output_type": "stream",
     "text": [
      "list of words = [['u', 'p', 't', 'o']], list of letters = ['t', 'p', 'o', 'u'], password = ptto\n"
     ]
    }
   ],
   "source": [
    "def password_generator():\n",
    "    \"\"\"randomly generates a password through a combination of any number of input words\"\"\"\n",
    "    import random\n",
    "    length_of_password = int(input('Length of the password to create:')) # converts the input into an integer\n",
    "    number_of_words = int(input('Number of words to input:'))\n",
    "    \n",
    "    list_of_words = []\n",
    "    list_of_letters = []\n",
    "    \n",
    "    for number in range(number_of_words):\n",
    "        word = str(input(f'Word {number + 1}:')) # takes each input word and turns it into a string\n",
    "        list_of_words.append(list(word))\n",
    "        \n",
    "    for word in list_of_words:\n",
    "        for letter in word:\n",
    "            list_of_letters.append(letter)\n",
    "    \n",
    "    random.shuffle(list_of_letters)\n",
    "    \n",
    "    password_shuffled = []\n",
    "    \n",
    "    for i in range(length_of_password):\n",
    "        password_shuffled.append(random.choice(list_of_letters))\n",
    "    \n",
    "    random.shuffle(password_shuffled)\n",
    "    \n",
    "    password = ''.join(password_shuffled)\n",
    "    \n",
    "    return list_of_words, list_of_letters, password\n",
    "\n",
    "list_of_words, list_of_letters, password = password_generator()\n",
    "print(f\"list of words = {list_of_words}, list of letters = {list_of_letters}, password = {password}\")"
   ]
  },
  {
   "cell_type": "code",
   "execution_count": null,
   "id": "f2de7dfb-122d-4a1c-b8bb-c2f169e685e9",
   "metadata": {},
   "outputs": [],
   "source": []
  },
  {
   "cell_type": "code",
   "execution_count": null,
   "id": "225d507d-25aa-487c-9591-49884d08cffe",
   "metadata": {},
   "outputs": [],
   "source": []
  },
  {
   "cell_type": "code",
   "execution_count": 4,
   "id": "f3eeab72-e9ff-4e24-86d8-aa57e05530f9",
   "metadata": {},
   "outputs": [
    {
     "name": "stdin",
     "output_type": "stream",
     "text": [
      "Length of the password to create: 1\n",
      "Number of lowercase letters in password (a-z): 22\n",
      "Number of capital letters in password (A-Z): 3\n",
      "Number of numbers in password (0-9): 4\n",
      "Number of special characters in password (!@#()$%^&*): 5\n"
     ]
    },
    {
     "name": "stdout",
     "output_type": "stream",
     "text": [
      "password_list = ['!', 'n', 'v', 'c', 'c', 'c', '*', 't', 'W', 'b', '%', '%', '3', 'b', 'q', 'q', 'd', 'o', 'i', 'c', 'm', 'm', '4', 'C', 'i', '1', 'L', 't', 'd', '*', 'v', 'v', 'f', '8'], password = !nvccc*tWb%%3bqqdoicmm4Ci1Ltd*vvf8\n"
     ]
    }
   ],
   "source": [
    "def password_generator():\n",
    "    \"\"\"randomly generates a password through a combination of upper and lowercase letters, numbers and characters\"\"\"\n",
    "    import random\n",
    "    import string\n",
    "    \n",
    "    length_of_password = int(input('Length of the password to create:'))\n",
    "    number_of_lowercase_letters = int(input('Number of lowercase letters in password (a-z):'))\n",
    "    number_of_uppercase_letters = int(input('Number of capital letters in password (A-Z):'))\n",
    "    number_of_numbers = int(input('Number of numbers in password (0-9):'))\n",
    "    number_of_characters = int(input('Number of special characters in password (!@#()$%^&*):'))\n",
    "    \n",
    "    lower_alphabet = list(string.ascii_lowercase)\n",
    "    upper_alphabet = list(string.ascii_uppercase)\n",
    "    numbers = ['0','1','2','3','4','5','6','7','8','9']\n",
    "    special_characters = list(\"!@#$%^&*()\")\n",
    "    \n",
    "    password_list = []\n",
    "    \n",
    "    for l_letter in range(number_of_lowercase_letters):\n",
    "        password_list.append(random.choice(lower_alphabet))\n",
    "        \n",
    "    for u_letter in range(number_of_uppercase_letters):\n",
    "        password_list.append(random.choice(upper_alphabet))\n",
    "    \n",
    "    for number in range(number_of_numbers):\n",
    "        password_list.append(random.choice(numbers))\n",
    "        \n",
    "    for character in range(number_of_characters):\n",
    "        password_list.append(random.choice(special_characters))\n",
    "        \n",
    "    random.shuffle(password_list) # has to be on its own cannot assign to anything\n",
    "    \n",
    "    password_shuffled = []\n",
    "    \n",
    "    for characters in range(length_of_password):\n",
    "        password_shuffled.append(random.shuffle(password_list))\n",
    "    \n",
    "    random.shuffle(password_shuffled) \n",
    "    \n",
    "    password = ''.join(password_list)\n",
    "    \n",
    "    return password_list, password\n",
    "password_list, password = password_generator()\n",
    "print(f\"password_list = {password_list}, password = {password}\")"
   ]
  },
  {
   "cell_type": "code",
   "execution_count": 52,
   "id": "0a99382b-3de7-439b-b53e-d5f9bb5828a4",
   "metadata": {},
   "outputs": [
    {
     "name": "stdout",
     "output_type": "stream",
     "text": [
      "[1, 2, 3, 4, 5, 6, 7, 8, 9]\n"
     ]
    }
   ],
   "source": [
    "xss = [[1,2,3], [4,5,6], [7], [8,9]]\n",
    "xs = []\n",
    "for i in xss:\n",
    "    for j in i:\n",
    "        xs.append(j)\n",
    "    \n",
    "print(xs)"
   ]
  },
  {
   "cell_type": "code",
   "execution_count": 8,
   "id": "2ec0d233-a8bc-41bf-83eb-4452be5ae4a8",
   "metadata": {},
   "outputs": [
    {
     "name": "stdout",
     "output_type": "stream",
     "text": [
      "[3, 2, 4, 0, 1]\n"
     ]
    }
   ],
   "source": [
    "import random\n",
    "\n",
    "s=list(range(5))\n",
    "random.shuffle(s) # << shuffle before print or assignment\n",
    "print(s)"
   ]
  },
  {
   "cell_type": "code",
   "execution_count": 6,
   "id": "5339f344-8629-47f2-af1e-13e978d4513d",
   "metadata": {},
   "outputs": [
    {
     "name": "stdin",
     "output_type": "stream",
     "text": [
      "Enter password length:  9\n",
      "Enter alphabets count in password:  7\n",
      "Enter digits count in password:  1\n",
      "Enter special characters count in password:  1\n"
     ]
    },
    {
     "name": "stdout",
     "output_type": "stream",
     "text": [
      "Cb#5rgDcH\n"
     ]
    }
   ],
   "source": [
    "import string\n",
    "import random\n",
    "\n",
    "\n",
    "## characters to generate password from\n",
    "alphabets = list(string.ascii_letters)\n",
    "digits = list(string.digits)\n",
    "special_characters = list(\"!@#$%^&*()\")\n",
    "characters = list(string.ascii_letters + string.digits + \"!@#$%^&*()\")\n",
    "\n",
    "def generate_random_password():\n",
    "\t## length of password from the user\n",
    "\tlength = int(input(\"Enter password length: \"))\n",
    "\n",
    "\t## number of character types\n",
    "\talphabets_count = int(input(\"Enter alphabets count in password: \"))\n",
    "\tdigits_count = int(input(\"Enter digits count in password: \"))\n",
    "\tspecial_characters_count = int(input(\"Enter special characters count in password: \"))\n",
    "\n",
    "\tcharacters_count = alphabets_count + digits_count + special_characters_count\n",
    "\n",
    "\t## check the total length with characters sum count\n",
    "\t## print not valid if the sum is greater than length\n",
    "\tif characters_count > length:\n",
    "\t\tprint(\"Characters total count is greater than the password length\")\n",
    "\t\treturn\n",
    "\n",
    "\n",
    "\t## initializing the password\n",
    "\tpassword = []\n",
    "\t\n",
    "\t## picking random alphabets\n",
    "\tfor i in range(alphabets_count):\n",
    "\t\tpassword.append(random.choice(alphabets))\n",
    "\n",
    "\n",
    "\t## picking random digits\n",
    "\tfor i in range(digits_count):\n",
    "\t\tpassword.append(random.choice(digits))\n",
    "\n",
    "\n",
    "\t## picking random alphabets\n",
    "\tfor i in range(special_characters_count):\n",
    "\t\tpassword.append(random.choice(special_characters))\n",
    "\n",
    "\n",
    "\t## if the total characters count is less than the password length\n",
    "\t## add random characters to make it equal to the length\n",
    "\tif characters_count < length:\n",
    "\t\trandom.shuffle(characters)\n",
    "\t\tfor i in range(length - characters_count):\n",
    "\t\t\tpassword.append(random.choice(characters))\n",
    "\n",
    "\n",
    "\t## shuffling the resultant password\n",
    "\trandom.shuffle(password)\n",
    "\n",
    "\t## converting the list to string\n",
    "\t## printing the list\n",
    "\tprint(\"\".join(password))\n",
    "\n",
    "\n",
    "\n",
    "## invoking the function\n",
    "generate_random_password()"
   ]
  },
  {
   "cell_type": "code",
   "execution_count": null,
   "id": "4ba61b0f-11f4-4e54-bc7a-7e574c6ee6f5",
   "metadata": {},
   "outputs": [],
   "source": []
  }
 ],
 "metadata": {
  "kernelspec": {
   "display_name": "Python 3",
   "language": "python",
   "name": "python3"
  },
  "language_info": {
   "codemirror_mode": {
    "name": "ipython",
    "version": 3
   },
   "file_extension": ".py",
   "mimetype": "text/x-python",
   "name": "python",
   "nbconvert_exporter": "python",
   "pygments_lexer": "ipython3",
   "version": "3.8.8"
  }
 },
 "nbformat": 4,
 "nbformat_minor": 5
}
