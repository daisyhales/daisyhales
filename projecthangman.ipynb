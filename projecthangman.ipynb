{
 "cells": [
  {
   "cell_type": "code",
   "execution_count": 1,
   "id": "d0cf15d2-7865-485b-ae3e-7708acfe4e67",
   "metadata": {},
   "outputs": [
    {
     "name": "stdout",
     "output_type": "stream",
     "text": [
      "Requirement already satisfied: random-word in /Applications/anaconda3/lib/python3.8/site-packages (1.0.7)\n",
      "Requirement already satisfied: nose in /Applications/anaconda3/lib/python3.8/site-packages (from random-word) (1.3.7)\n",
      "Requirement already satisfied: requests in /Applications/anaconda3/lib/python3.8/site-packages (from random-word) (2.25.1)\n",
      "Requirement already satisfied: chardet<5,>=3.0.2 in /Applications/anaconda3/lib/python3.8/site-packages (from requests->random-word) (4.0.0)\n",
      "Requirement already satisfied: idna<3,>=2.5 in /Applications/anaconda3/lib/python3.8/site-packages (from requests->random-word) (2.10)\n",
      "Requirement already satisfied: urllib3<1.27,>=1.21.1 in /Applications/anaconda3/lib/python3.8/site-packages (from requests->random-word) (1.26.4)\n",
      "Requirement already satisfied: certifi>=2017.4.17 in /Applications/anaconda3/lib/python3.8/site-packages (from requests->random-word) (2020.12.5)\n",
      "Note: you may need to restart the kernel to use updated packages.\n"
     ]
    }
   ],
   "source": [
    "pip install random-word"
   ]
  },
  {
   "cell_type": "code",
   "execution_count": 2,
   "id": "09c45955-d498-4f73-b1f2-0097f5cae939",
   "metadata": {},
   "outputs": [],
   "source": [
    "# words = RandomWords()\n",
    "\n",
    "# Return a single random word\n",
    "# r.get_random_word() # cannot be assigned to anything\n",
    "\n",
    "# def hangman():\n",
    "#     \"\"\"hangman\"\"\"\n",
    "#     from random_word import RandomWords\n",
    "\n",
    "#     words = RandomWords()\n",
    "# #     list(words.get_random_word())\n",
    "#     return (words.get_random_word())\n",
    "# print(hangman())"
   ]
  },
  {
   "cell_type": "code",
   "execution_count": 3,
   "id": "386dd723-fa14-4c64-85c6-e814786a4ed3",
   "metadata": {},
   "outputs": [],
   "source": [
    "# from random_word import RandomWords\n",
    "\n",
    "# words = RandomWords()\n",
    "# a = words.get_random_word()\n",
    "# print(a)\n",
    "# print(list(a))"
   ]
  },
  {
   "cell_type": "code",
   "execution_count": 3,
   "id": "f41853d9-d018-46ff-a148-5a85c74aff3c",
   "metadata": {},
   "outputs": [
    {
     "name": "stdout",
     "output_type": "stream",
     "text": [
      "Length of word: 6\n",
      "Number of incorrect guesses allowed: 6\n",
      "_ _ _ _ _ _ "
     ]
    },
    {
     "name": "stdin",
     "output_type": "stream",
     "text": [
      "Guess Letter no.1: d\n"
     ]
    },
    {
     "name": "stdout",
     "output_type": "stream",
     "text": [
      "This letter is not in the word.\n",
      "Try again\n",
      "           \n",
      "    |      \n",
      "    |      \n",
      "    |      \n",
      "    |      \n",
      "    |      \n",
      "____|______\n",
      "\n",
      "_ _ _ _ _ _ \n"
     ]
    },
    {
     "name": "stdin",
     "output_type": "stream",
     "text": [
      "Guess Letter no.2: s\n"
     ]
    },
    {
     "name": "stdout",
     "output_type": "stream",
     "text": [
      "This letter is not in the word.\n",
      "Try again\n",
      "   _______ \n",
      "    |      \n",
      "    |      \n",
      "    |      \n",
      "    |      \n",
      "    |      \n",
      "____|______\n",
      "\n",
      "_ _ _ _ _ _ \n"
     ]
    },
    {
     "name": "stdin",
     "output_type": "stream",
     "text": [
      "Guess Letter no.3: a\n"
     ]
    },
    {
     "name": "stdout",
     "output_type": "stream",
     "text": [
      "a appears 1 time(s) in word\n",
      "   _______ \n",
      "    |      \n",
      "    |      \n",
      "    |      \n",
      "    |      \n",
      "    |      \n",
      "____|______\n",
      "\n",
      "_ _ a_ _ _ \n"
     ]
    },
    {
     "name": "stdin",
     "output_type": "stream",
     "text": [
      "Guess Letter no.4: f\n"
     ]
    },
    {
     "name": "stdout",
     "output_type": "stream",
     "text": [
      "This letter is not in the word.\n",
      "Try again\n",
      "   _______ \n",
      "    |      |\n",
      "    |      0\n",
      "    |      \n",
      "    |      \n",
      "    |      \n",
      "____|______\n",
      "\n",
      "_ _ a_ _ _ \n"
     ]
    },
    {
     "name": "stdin",
     "output_type": "stream",
     "text": [
      "Guess Letter no.5: g\n"
     ]
    },
    {
     "name": "stdout",
     "output_type": "stream",
     "text": [
      "g appears 1 time(s) in word\n",
      "   _______ \n",
      "    |      |\n",
      "    |      0\n",
      "    |      \n",
      "    |      \n",
      "    |      \n",
      "____|______\n",
      "\n",
      "_ _ a_ g_ \n"
     ]
    },
    {
     "name": "stdin",
     "output_type": "stream",
     "text": [
      "Guess Letter no.6: b\n"
     ]
    },
    {
     "name": "stdout",
     "output_type": "stream",
     "text": [
      "This letter is not in the word.\n",
      "Try again\n",
      "   _______  \n",
      "    |      | \n",
      "    |      0 \n",
      "    |      | \n",
      "    |        \n",
      "    |        \n",
      "____|______ \n",
      "\n",
      "_ _ a_ g_ \n"
     ]
    },
    {
     "name": "stdin",
     "output_type": "stream",
     "text": [
      "Guess Letter no.7: x\n"
     ]
    },
    {
     "name": "stdout",
     "output_type": "stream",
     "text": [
      "This letter is not in the word.\n",
      "Try again\n",
      "   _______  \n",
      "    |      | \n",
      "    |      0 \n",
      "    |     /|\\ \n",
      "    |         \n",
      "    |        \n",
      "____|______ \n",
      "\n",
      "_ _ a_ g_ \n"
     ]
    },
    {
     "name": "stdin",
     "output_type": "stream",
     "text": [
      "Guess Letter no.8: v\n"
     ]
    },
    {
     "name": "stdout",
     "output_type": "stream",
     "text": [
      "This letter is not in the word.\n",
      "Try again\n",
      "   _______  \n",
      "    |      | \n",
      "    |      0 \n",
      "    |     /|\\ \n",
      "    |     / \\ \n",
      "    |        \n",
      "____|______ \n",
      "\n",
      "You have run out of guesses. Play again!\n",
      "The word was: orange\n"
     ]
    }
   ],
   "source": [
    "def indexes(word,letter):\n",
    "    indexes = []\n",
    "    for index,content_letter in enumerate(word):\n",
    "        if content_letter == letter:\n",
    "            indexes.append(index)\n",
    "    return indexes\n",
    "\n",
    "def hangman():\n",
    "    \"\"\"hangman, some of the words can have a - in\"\"\"\n",
    "    from random_word import RandomWords\n",
    "    import random\n",
    "\n",
    "#     words = RandomWords()\n",
    "#     word = words.get_random_word()#.lower()\n",
    "#     print(word)\n",
    "#     print(type(word))\n",
    "#     word = 'hey'\n",
    "    \n",
    "    \n",
    "    list_of_words = ['apple', 'pear', 'banana', 'melon', 'watermelon', 'blueberries', 'strawberries', 'peach', 'nectarine', 'plum', 'orange', 'kiwi', 'dragonfruit', 'tomato']\n",
    "    word = random.choice(list_of_words)\n",
    "    \n",
    "    print(f\"Length of word: {len(word)}\")\n",
    "    print(f\"Number of incorrect guesses allowed: {6}\")\n",
    "    \n",
    "#     print(word)\n",
    "\n",
    "        \n",
    "    for i in word:\n",
    "        print('_ ', end = '')\n",
    "    \n",
    "    list_of_letters_guessed = []\n",
    "    \n",
    "    \n",
    "    up_to_now = []\n",
    "    for n, l in enumerate(word):\n",
    "        up_to_now.append('_ ')\n",
    "    \n",
    "    incorrect = 0\n",
    "    \n",
    "    for i in range(len(word)+10):\n",
    "    \n",
    "        letter_guess = (input(f'Guess Letter no.{i + 1}:')).lower()\n",
    "        list_of_letters_guessed.append(letter_guess)\n",
    "#         guesses_left = len(word)+2 - i\n",
    "        \n",
    "#         print(f\"No. of guesses left: {guesses_left}\")\n",
    "\n",
    "        if letter_guess in word:\n",
    "            print(f\"{letter_guess} appears {word.count(letter_guess)} time(s) in word\")\n",
    "        else:\n",
    "            print(\"This letter is not in the word.\")\n",
    "            print(\"Try again\")\n",
    "            incorrect = incorrect + 1\n",
    "        \n",
    "\n",
    "        if incorrect == 0:\n",
    "            print(\"           \\n\"\n",
    "                 \"           \\n\"\n",
    "                 \"           \\n\"\n",
    "                 \"           \\n\"\n",
    "                 \"           \\n\"\n",
    "                 \"           \\n\"\n",
    "                 \"___________\\n\"\n",
    "                 )\n",
    "        if incorrect == 1:\n",
    "            print(\"           \\n\"\n",
    "                 \"    |      \\n\"\n",
    "                 \"    |      \\n\"\n",
    "                 \"    |      \\n\"\n",
    "                 \"    |      \\n\"\n",
    "                 \"    |      \\n\"\n",
    "                 \"____|______\\n\"\n",
    "                 )\n",
    "        if incorrect == 2:\n",
    "            print(\"   _______ \\n\"\n",
    "                 \"    |      \\n\"\n",
    "                 \"    |      \\n\"\n",
    "                 \"    |      \\n\"\n",
    "                 \"    |      \\n\"\n",
    "                 \"    |      \\n\"\n",
    "                 \"____|______\\n\"\n",
    "                 )\n",
    "        if incorrect == 3:\n",
    "            print(\"   _______ \\n\"\n",
    "                 \"    |      |\\n\"\n",
    "                 \"    |      0\\n\"\n",
    "                 \"    |      \\n\"\n",
    "                 \"    |      \\n\"\n",
    "                 \"    |      \\n\"\n",
    "                 \"____|______\\n\"\n",
    "                 )\n",
    "        if incorrect == 4:\n",
    "            print(\"   _______  \\n\"\n",
    "                 \"    |      | \\n\"\n",
    "                 \"    |      0 \\n\"\n",
    "                 \"    |      | \\n\"\n",
    "                 \"    |        \\n\"\n",
    "                 \"    |        \\n\"\n",
    "                 \"____|______ \\n\"\n",
    "                 )\n",
    "        if incorrect == 5:\n",
    "            print(\"   _______  \\n\"\n",
    "                 \"    |      | \\n\"\n",
    "                 \"    |      0 \\n\"\n",
    "                 \"    |     /|\\ \\n\"\n",
    "                 \"    |         \\n\"\n",
    "                 \"    |        \\n\"\n",
    "                 \"____|______ \\n\"\n",
    "                 )\n",
    "            \n",
    "        if incorrect == 6:\n",
    "            print(\"   _______  \\n\"\n",
    "                 \"    |      | \\n\"\n",
    "                 \"    |      0 \\n\"\n",
    "                 \"    |     /|\\ \\n\"\n",
    "                 \"    |     / \\ \\n\"\n",
    "                 \"    |        \\n\"\n",
    "                 \"____|______ \\n\"\n",
    "                 )\n",
    "        \n",
    "        if incorrect == 6:\n",
    "            print(\"You have run out of guesses. Play again!\")\n",
    "            print(f\"The word was: {word}\")\n",
    "            break  \n",
    "#         else:\n",
    "#             print(\"Try again.\")\n",
    "            \n",
    "        for n, l in enumerate(word):\n",
    "            if l == letter_guess:\n",
    "                up_to_now[n] = l\n",
    "            \n",
    "        print(''.join(up_to_now))\n",
    "        \n",
    "        if ''.join(up_to_now) == word:\n",
    "            print(\"Well done! You've got the word!\")\n",
    "            break\n",
    "        \n",
    "        list_of_letters_guessed.append(letter_guess)\n",
    "        \n",
    "        \n",
    "        \n",
    "# you could have two wrong guesses and then it changes the man?\n",
    "hangman()"
   ]
  },
  {
   "cell_type": "code",
   "execution_count": 5,
   "id": "f67582b9-5e9f-4048-a841-91376e47517d",
   "metadata": {},
   "outputs": [
    {
     "data": {
      "text/plain": [
       "[0, 5, 6]"
      ]
     },
     "execution_count": 5,
     "metadata": {},
     "output_type": "execute_result"
    }
   ],
   "source": [
    "def indexes(word,letter):\n",
    "    for index,content_letter in enumerate(word):\n",
    "        if content_letter == letter:\n",
    "            yield index\n",
    "            \n",
    "list( indexes(\"engineering\",\"e\") )"
   ]
  },
  {
   "cell_type": "code",
   "execution_count": 6,
   "id": "43a57813-848d-4f0f-9b17-c6ab7b9c70c3",
   "metadata": {},
   "outputs": [
    {
     "name": "stdout",
     "output_type": "stream",
     "text": [
      "<generator object indexes at 0x7fd8698f5f90>\n",
      "['_', '_']\n",
      "<generator object indexes at 0x7fd8698f5f90>\n",
      "['_', '_', '_', '_', 'k', 'k', '_', '_']\n"
     ]
    }
   ],
   "source": [
    "word = 'hanukkah'\n",
    "letter = 'k'\n",
    "index = indexes(word,letter)\n",
    "print(index)\n",
    "list_of_word = []\n",
    "for n, l in enumerate(word):\n",
    "    for j in index:\n",
    "        if n == j:\n",
    "            list_of_word.append(letter)\n",
    "        else:\n",
    "            list_of_word.append('_')\n",
    "print(list_of_word)    \n",
    "\n",
    "# for i in index:\n",
    "    \n",
    "#     word = word[:index[i]] + \"_\" + word[index[i]]\n",
    "# print(word)\n",
    "\n",
    "# index = []\n",
    "so_far = []\n",
    "for n, l in enumerate(word):\n",
    "    if l == letter:\n",
    "        so_far.append(l)\n",
    "    else:\n",
    "        so_far.append('_')\n",
    "\n",
    "    \n",
    "        \n",
    "print(index)\n",
    "print(so_far)"
   ]
  },
  {
   "cell_type": "code",
   "execution_count": 7,
   "id": "508e09ec-46ad-4e1f-9fca-02fb135655ef",
   "metadata": {},
   "outputs": [
    {
     "name": "stdout",
     "output_type": "stream",
     "text": [
      "abcde\n"
     ]
    }
   ],
   "source": [
    "ch = 'a b c d e'\n",
    "word_list = []\n",
    "for n, l in enumerate(ch):\n",
    "    if l == ' ':\n",
    "        continue\n",
    "    else:\n",
    "        word_list.append(l)\n",
    "        \n",
    "word = ''.join(word_list)\n",
    "print(word)"
   ]
  },
  {
   "cell_type": "code",
   "execution_count": null,
   "id": "db253bbf-d791-4d9e-84b6-c772203df04c",
   "metadata": {},
   "outputs": [],
   "source": []
  }
 ],
 "metadata": {
  "kernelspec": {
   "display_name": "Python 3",
   "language": "python",
   "name": "python3"
  },
  "language_info": {
   "codemirror_mode": {
    "name": "ipython",
    "version": 3
   },
   "file_extension": ".py",
   "mimetype": "text/x-python",
   "name": "python",
   "nbconvert_exporter": "python",
   "pygments_lexer": "ipython3",
   "version": "3.8.8"
  }
 },
 "nbformat": 4,
 "nbformat_minor": 5
}
