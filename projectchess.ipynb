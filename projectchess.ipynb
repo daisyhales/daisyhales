{
 "cells": [
  {
   "cell_type": "code",
   "execution_count": 2,
   "id": "a756d4f8-8813-45bd-ac18-5c8ef47551e3",
   "metadata": {},
   "outputs": [
    {
     "name": "stdout",
     "output_type": "stream",
     "text": [
      "pygame 2.1.2 (SDL 2.0.18, Python 3.8.8)\n",
      "Hello from the pygame community. https://www.pygame.org/contribute.html\n"
     ]
    }
   ],
   "source": [
    "import pygame\n",
    "import time\n",
    "import sys\n",
    "import numpy as np"
   ]
  },
  {
   "cell_type": "code",
   "execution_count": 61,
   "id": "821c16a1-4d28-44ba-bad4-1d5ab821d7e2",
   "metadata": {},
   "outputs": [
    {
     "ename": "IndexError",
     "evalue": "Invalid rect Index",
     "output_type": "error",
     "traceback": [
      "\u001b[0;31m---------------------------------------------------------------------------\u001b[0m",
      "\u001b[0;31mIndexError\u001b[0m                                Traceback (most recent call last)",
      "\u001b[0;32m<ipython-input-61-3604ddfdbe8b>\u001b[0m in \u001b[0;36m<module>\u001b[0;34m\u001b[0m\n\u001b[1;32m     82\u001b[0m \u001b[0;34m\u001b[0m\u001b[0m\n\u001b[1;32m     83\u001b[0m \u001b[0;34m\u001b[0m\u001b[0m\n\u001b[0;32m---> 84\u001b[0;31m \u001b[0mscreen\u001b[0m\u001b[0;34m(\u001b[0m\u001b[0mdisplay_width\u001b[0m\u001b[0;34m,\u001b[0m \u001b[0mdisplay_height\u001b[0m\u001b[0;34m)\u001b[0m\u001b[0;34m\u001b[0m\u001b[0;34m\u001b[0m\u001b[0m\n\u001b[0m",
      "\u001b[0;32m<ipython-input-61-3604ddfdbe8b>\u001b[0m in \u001b[0;36mscreen\u001b[0;34m(display_width, display_height)\u001b[0m\n\u001b[1;32m     22\u001b[0m                 \u001b[0mrect\u001b[0m \u001b[0;34m=\u001b[0m \u001b[0mpygame\u001b[0m\u001b[0;34m.\u001b[0m\u001b[0mRect\u001b[0m\u001b[0;34m(\u001b[0m\u001b[0mx\u001b[0m\u001b[0;34m*\u001b[0m\u001b[0msquare_size\u001b[0m\u001b[0;34m,\u001b[0m \u001b[0my\u001b[0m\u001b[0;34m*\u001b[0m\u001b[0msquare_size\u001b[0m\u001b[0;34m,\u001b[0m \u001b[0msquare_size\u001b[0m\u001b[0;34m,\u001b[0m \u001b[0msquare_size\u001b[0m\u001b[0;34m)\u001b[0m\u001b[0;34m\u001b[0m\u001b[0;34m\u001b[0m\u001b[0m\n\u001b[1;32m     23\u001b[0m                 \u001b[0;32mfor\u001b[0m \u001b[0mi\u001b[0m \u001b[0;32min\u001b[0m \u001b[0mrange\u001b[0m\u001b[0;34m(\u001b[0m\u001b[0;36m9\u001b[0m\u001b[0;34m-\u001b[0m\u001b[0;36m1\u001b[0m\u001b[0;34m)\u001b[0m\u001b[0;34m:\u001b[0m\u001b[0;34m\u001b[0m\u001b[0;34m\u001b[0m\u001b[0m\n\u001b[0;32m---> 24\u001b[0;31m                     \u001b[0mr0\u001b[0m \u001b[0;34m=\u001b[0m \u001b[0mrect\u001b[0m\u001b[0;34m[\u001b[0m\u001b[0mi\u001b[0m\u001b[0;34m]\u001b[0m\u001b[0;34m\u001b[0m\u001b[0;34m\u001b[0m\u001b[0m\n\u001b[0m\u001b[1;32m     25\u001b[0m \u001b[0;34m\u001b[0m\u001b[0m\n\u001b[1;32m     26\u001b[0m                 \u001b[0mpygame\u001b[0m\u001b[0;34m.\u001b[0m\u001b[0mdraw\u001b[0m\u001b[0;34m.\u001b[0m\u001b[0mrect\u001b[0m\u001b[0;34m(\u001b[0m\u001b[0mdisplay\u001b[0m\u001b[0;34m,\u001b[0m \u001b[0;34m(\u001b[0m\u001b[0;36m255\u001b[0m\u001b[0;34m,\u001b[0m\u001b[0;36m255\u001b[0m\u001b[0;34m,\u001b[0m\u001b[0;36m255\u001b[0m\u001b[0;34m)\u001b[0m\u001b[0;34m,\u001b[0m \u001b[0mrect\u001b[0m\u001b[0;34m,\u001b[0m \u001b[0;36m1\u001b[0m\u001b[0;34m)\u001b[0m\u001b[0;34m\u001b[0m\u001b[0;34m\u001b[0m\u001b[0m\n",
      "\u001b[0;31mIndexError\u001b[0m: Invalid rect Index"
     ]
    }
   ],
   "source": [
    "display_width = 400\n",
    "display_height  = 400\n",
    "square_size = 20\n",
    "black = ((0,0,0))\n",
    "\n",
    "def screen(display_width, display_height):\n",
    "    \"\"\"sets up the display window\"\"\"\n",
    "    pygame.init()\n",
    "    display = pygame.display.set_mode((display_width,display_height))\n",
    "    pygame.display.update()\n",
    "    pygame.display.set_caption('Chess') # sets the caption on the surface (window) that opens \n",
    "    clock = pygame.time.Clock() \n",
    "    \n",
    "    while True:\n",
    "        \n",
    "        # grid\n",
    "        grid = np.indices((8,8)) + 1\n",
    "        \n",
    "        for x in range(8):\n",
    "            for y in range(8):\n",
    "                square_size = display_width/8\n",
    "                rect = pygame.Rect(x*square_size, y*square_size, square_size, square_size)\n",
    "                for i in range(9-1):\n",
    "                    r0 = rect[i]\n",
    "                \n",
    "                pygame.draw.rect(display, (255,255,255), rect, 1)\n",
    "                \n",
    "                    \n",
    "                    \n",
    "#         column = x*square_size #// (square_size + margin)\n",
    "#         row = y*square_size #1 // (square_size + margin)\n",
    "#         for x in range(8):\n",
    "#             for y in range(8):\n",
    "#                 column = x*square_size #// (square_size + margin)\n",
    "#                 row = y*square_size\n",
    "                \n",
    "#                 color = ((255,0,0))\n",
    "#                 pygame.draw.rect(display,color,[(width)*x,(height)*y,width,height])\n",
    "\n",
    "        \n",
    "        \n",
    "        \n",
    "                \n",
    "# #         yaxis = grid1[0][0][0] (upside down), xaxis = grid1[1][0][0]\n",
    "# #         grid1[0][x/y][0] - keep final[0] as 0       \n",
    "#     elif event.type == pygame.MOUSEBUTTONDOWN:\n",
    "#             pos = pygame.mouse.get_pos()\n",
    "#             column = pos[0] // (width + margin)\n",
    "#             row = pos[1] // (height + margin)\n",
    "#             grid[row][column] = 1\n",
    "#             grid[row+1][column+1] = 1\n",
    "#             grid[row-1][column-1] = 1\n",
    "#             grid[row-1][column] = 1\n",
    "#             grid[row+1][column] = 1\n",
    "#             grid[row][column+1] = 1\n",
    "#             grid[row][column-1] = 1\n",
    "#             grid[row-1][column+1] = 1\n",
    "#             grid[row+1][column-1] = 1\n",
    "#             print(\"Click \", pos, \"Grid coordinates: \", row, column)\n",
    "#     # Set the screen background\n",
    "#     screen.fill(BLACK)\n",
    "#     for row in range(10):\n",
    "#        for column in range(10):\n",
    "#             color = WHITE\n",
    "#             if grid[row][column] == 1:\n",
    "#                 color = RED\n",
    "#             pygame.draw.rect(screen,\n",
    "#                              color,\n",
    "#                              [(margin+width)*column+margin,\n",
    "#                               (margin+height)*row+margin,\n",
    "#                               width,\n",
    "#                               height])\n",
    "\n",
    "\n",
    "            \n",
    "        for event in pygame.event.get():\n",
    "            if event.type == pygame.QUIT:\n",
    "                pygame.quit()\n",
    "                sys.exit()\n",
    "        pygame.display.update()\n",
    "\n",
    "    \n",
    "   \n",
    "screen(display_width, display_height)            "
   ]
  },
  {
   "cell_type": "code",
   "execution_count": 42,
   "id": "54ff683b-2966-46cc-8fb5-e7170836ed0e",
   "metadata": {},
   "outputs": [
    {
     "name": "stdout",
     "output_type": "stream",
     "text": [
      "[['  ', '  ', '  ', '  ', '  ', '  ', '  ', '  '], ['  ', '  ', '  ', '  ', '  ', '  ', '  ', '  '], ['  ', '  ', '  ', '  ', '  ', '  ', '  ', '  '], ['  ', '  ', '  ', '  ', '  ', '  ', '  ', '  '], ['  ', '  ', '  ', '  ', '  ', '  ', '  ', '  '], ['  ', '  ', '  ', '  ', '  ', '  ', '  ', '  '], ['  ', '  ', '  ', '  ', '  ', '  ', '  ', '  '], ['  ', '  ', '  ', '  ', '  ', '  ', '  ', '  ']]\n",
      "['  ', '  ', '  ', '  ', '  ', '  ', '  ', '  ']\n"
     ]
    }
   ],
   "source": [
    "board = [['  ' for i in range(8)] for i in range(8)]\n",
    "print(board)\n",
    "\n",
    "print(board[1])"
   ]
  },
  {
   "cell_type": "code",
   "execution_count": 36,
   "id": "0baa74e2-b751-4e3d-a3cd-91469abace5f",
   "metadata": {},
   "outputs": [
    {
     "name": "stdout",
     "output_type": "stream",
     "text": [
      "[[1, 2, 3, 4, 5, 6, 7, 8], [9, 10, 11, 12, 13, 14, 15, 16], [17, 18, 19, 20, 21, 22, 23, 24], [25, 26, 27, 28, 29, 30, 31, 32], [33, 34, 35, 36, 37, 38, 39, 40], [41, 42, 43, 44, 45, 46, 47, 48], [49, 50, 51, 52, 53, 54, 55, 56], [57, 58, 59, 60, 61, 62, 63, 64]]\n",
      "[[[1 1 1 1 1 1 1 1]\n",
      "  [2 2 2 2 2 2 2 2]\n",
      "  [3 3 3 3 3 3 3 3]\n",
      "  [4 4 4 4 4 4 4 4]\n",
      "  [5 5 5 5 5 5 5 5]\n",
      "  [6 6 6 6 6 6 6 6]\n",
      "  [7 7 7 7 7 7 7 7]\n",
      "  [8 8 8 8 8 8 8 8]]\n",
      "\n",
      " [[1 2 3 4 5 6 7 8]\n",
      "  [1 2 3 4 5 6 7 8]\n",
      "  [1 2 3 4 5 6 7 8]\n",
      "  [1 2 3 4 5 6 7 8]\n",
      "  [1 2 3 4 5 6 7 8]\n",
      "  [1 2 3 4 5 6 7 8]\n",
      "  [1 2 3 4 5 6 7 8]\n",
      "  [1 2 3 4 5 6 7 8]]]\n"
     ]
    },
    {
     "data": {
      "text/plain": [
       "(8, 1)"
      ]
     },
     "execution_count": 36,
     "metadata": {},
     "output_type": "execute_result"
    }
   ],
   "source": [
    "grid = []\n",
    "total = 0\n",
    "for row in range(8):\n",
    "    grid.append([])\n",
    "    for column in range(8):\n",
    "        total += 1\n",
    "        grid[row].append(total)\n",
    "print(grid)\n",
    "grid1 = np.indices((8,8)) +1\n",
    "print(grid1)\n",
    "grid1[0][7][0], grid1[1][0][0]"
   ]
  },
  {
   "cell_type": "code",
   "execution_count": 48,
   "id": "d5eec9e5-d419-4843-ad77-43ff19e06157",
   "metadata": {},
   "outputs": [
    {
     "name": "stdout",
     "output_type": "stream",
     "text": [
      "Click  (161, 50) Grid coordinates:  2 6\n",
      "Click  (24, 79) Grid coordinates:  3 0\n",
      "Click  (81, 190) Grid coordinates:  7 3\n"
     ]
    },
    {
     "ename": "IndexError",
     "evalue": "list index out of range",
     "output_type": "error",
     "traceback": [
      "\u001b[0;31m---------------------------------------------------------------------------\u001b[0m",
      "\u001b[0;31mIndexError\u001b[0m                                Traceback (most recent call last)",
      "\u001b[0;32m<ipython-input-48-8d95408f19e9>\u001b[0m in \u001b[0;36m<module>\u001b[0;34m\u001b[0m\n\u001b[1;32m     26\u001b[0m             \u001b[0mrow\u001b[0m \u001b[0;34m=\u001b[0m \u001b[0mpos\u001b[0m\u001b[0;34m[\u001b[0m\u001b[0;36m1\u001b[0m\u001b[0;34m]\u001b[0m \u001b[0;34m//\u001b[0m \u001b[0;34m(\u001b[0m\u001b[0mheight\u001b[0m \u001b[0;34m+\u001b[0m \u001b[0mmargin\u001b[0m\u001b[0;34m)\u001b[0m\u001b[0;34m\u001b[0m\u001b[0;34m\u001b[0m\u001b[0m\n\u001b[1;32m     27\u001b[0m             \u001b[0mgrid\u001b[0m\u001b[0;34m[\u001b[0m\u001b[0mrow\u001b[0m\u001b[0;34m]\u001b[0m\u001b[0;34m[\u001b[0m\u001b[0mcolumn\u001b[0m\u001b[0;34m]\u001b[0m \u001b[0;34m=\u001b[0m \u001b[0;36m1\u001b[0m\u001b[0;34m\u001b[0m\u001b[0;34m\u001b[0m\u001b[0m\n\u001b[0;32m---> 28\u001b[0;31m             \u001b[0mgrid\u001b[0m\u001b[0;34m[\u001b[0m\u001b[0mrow\u001b[0m\u001b[0;34m+\u001b[0m\u001b[0;36m1\u001b[0m\u001b[0;34m]\u001b[0m\u001b[0;34m[\u001b[0m\u001b[0mcolumn\u001b[0m\u001b[0;34m+\u001b[0m\u001b[0;36m1\u001b[0m\u001b[0;34m]\u001b[0m \u001b[0;34m=\u001b[0m \u001b[0;36m1\u001b[0m\u001b[0;34m\u001b[0m\u001b[0;34m\u001b[0m\u001b[0m\n\u001b[0m\u001b[1;32m     29\u001b[0m             \u001b[0mgrid\u001b[0m\u001b[0;34m[\u001b[0m\u001b[0mrow\u001b[0m\u001b[0;34m-\u001b[0m\u001b[0;36m1\u001b[0m\u001b[0;34m]\u001b[0m\u001b[0;34m[\u001b[0m\u001b[0mcolumn\u001b[0m\u001b[0;34m-\u001b[0m\u001b[0;36m1\u001b[0m\u001b[0;34m]\u001b[0m \u001b[0;34m=\u001b[0m \u001b[0;36m1\u001b[0m\u001b[0;34m\u001b[0m\u001b[0;34m\u001b[0m\u001b[0m\n\u001b[1;32m     30\u001b[0m             \u001b[0mgrid\u001b[0m\u001b[0;34m[\u001b[0m\u001b[0mrow\u001b[0m\u001b[0;34m-\u001b[0m\u001b[0;36m1\u001b[0m\u001b[0;34m]\u001b[0m\u001b[0;34m[\u001b[0m\u001b[0mcolumn\u001b[0m\u001b[0;34m]\u001b[0m \u001b[0;34m=\u001b[0m \u001b[0;36m1\u001b[0m\u001b[0;34m\u001b[0m\u001b[0;34m\u001b[0m\u001b[0m\n",
      "\u001b[0;31mIndexError\u001b[0m: list index out of range"
     ]
    }
   ],
   "source": [
    "BLACK    = (   0,   0,   0)\n",
    "WHITE    = ( 255, 255, 255)\n",
    "GREEN    = (   0, 255,   0)\n",
    "RED      = ( 255,   0,   0)\n",
    "width  = 20\n",
    "height = 20\n",
    "margin = 5\n",
    "grid = []\n",
    "for i in range(10):\n",
    "    grid.append([])\n",
    "    for column in range(10):\n",
    "        grid[i].append(0) \n",
    "pygame.init()\n",
    "size = [255, 255]\n",
    "screen = pygame.display.set_mode(size)\n",
    "done = False\n",
    "clock = pygame.time.Clock()\n",
    "#Main Program Loop\n",
    "while done == False:\n",
    "    for event in pygame.event.get(): \n",
    "        if event.type == pygame.QUIT: \n",
    "            done = True\n",
    "        elif event.type == pygame.MOUSEBUTTONDOWN:\n",
    "            pos = pygame.mouse.get_pos()\n",
    "            column = pos[0] // (width + margin)\n",
    "            row = pos[1] // (height + margin)\n",
    "            grid[row][column] = 1\n",
    "            grid[row+1][column+1] = 1\n",
    "            grid[row-1][column-1] = 1\n",
    "            grid[row-1][column] = 1\n",
    "            grid[row+1][column] = 1\n",
    "            grid[row][column+1] = 1\n",
    "            grid[row][column-1] = 1\n",
    "            grid[row-1][column+1] = 1\n",
    "            grid[row+1][column-1] = 1\n",
    "            print(\"Click \", pos, \"Grid coordinates: \", row, column)\n",
    "    # Set the screen background\n",
    "    screen.fill(BLACK)\n",
    "    for row in range(10):\n",
    "       for column in range(10):\n",
    "            color = WHITE\n",
    "            if grid[row][column] == 1:\n",
    "                color = RED\n",
    "            pygame.draw.rect(screen,\n",
    "                             color,\n",
    "                             [(margin+width)*column+margin,\n",
    "                              (margin+height)*row+margin,\n",
    "                              width,\n",
    "                              height])\n",
    "    clock.tick(90)\n",
    "    pygame.display.flip()\n",
    "pygame.quit()"
   ]
  },
  {
   "cell_type": "code",
   "execution_count": 3,
   "id": "d8409904-b2a8-42d9-b4e3-1d619bf82c2f",
   "metadata": {},
   "outputs": [],
   "source": [
    "WIDTH = 400\n",
    "\n",
    "WIN = pygame.display.set_mode((WIDTH, WIDTH))\n",
    "\n",
    "\"\"\" This is creating the window that we are playing on, it takes a tuple argument which is the dimensions of the window so in this case 800 x 800px\n",
    "\"\"\"\n",
    "\n",
    "pygame.display.set_caption(\"Chess\")\n",
    "WHITE = (255, 255, 255)\n",
    "GREY = (128, 128, 128)\n",
    "YELLOW = (204, 204, 0)\n",
    "BLUE = (50, 255, 255)\n",
    "BLACK = (0, 0, 0)\n",
    "\n",
    "\n",
    "class Node:\n",
    "    def __init__(self, row, col, width):\n",
    "        self.row = row\n",
    "        self.col = col\n",
    "        self.x = int(row * width)\n",
    "        self.y = int(col * width)\n",
    "        self.colour = WHITE\n",
    "        self.occupied = None\n",
    "\n",
    "    def draw(self, WIN):\n",
    "        pygame.draw.rect(WIN, self.colour, (self.x, self.y, WIDTH / 8, WIDTH / 8))\n",
    "\n",
    "    def setup(self, WIN):\n",
    "        if starting_order[(self.row, self.col)]:\n",
    "            if starting_order[(self.row, self.col)] == None:\n",
    "                pass\n",
    "            else:\n",
    "                WIN.blit(starting_order[(self.row, self.col)], (self.x, self.y))\n",
    "\n",
    "        \"\"\"\n",
    "        For now it is drawing a rectangle but eventually we are going to need it\n",
    "        to use blit to draw the chess pieces instead\n",
    "        \"\"\"\n",
    "\n",
    "\n",
    "def make_grid(rows, width):\n",
    "    grid = []\n",
    "    gap = WIDTH // rows\n",
    "    print(gap)\n",
    "    for i in range(rows):\n",
    "        grid.append([])\n",
    "        for j in range(rows):\n",
    "            node = Node(j, i, gap)\n",
    "            grid[i].append(node)\n",
    "            if (i+j)%2 ==1:\n",
    "                grid[i][j].colour = GREY\n",
    "    return grid\n"
   ]
  },
  {
   "cell_type": "code",
   "execution_count": null,
   "id": "d10e6865-6a8b-4ee1-81e3-cc1d3aaf89c4",
   "metadata": {},
   "outputs": [],
   "source": []
  }
 ],
 "metadata": {
  "kernelspec": {
   "display_name": "Python 3",
   "language": "python",
   "name": "python3"
  },
  "language_info": {
   "codemirror_mode": {
    "name": "ipython",
    "version": 3
   },
   "file_extension": ".py",
   "mimetype": "text/x-python",
   "name": "python",
   "nbconvert_exporter": "python",
   "pygments_lexer": "ipython3",
   "version": "3.8.8"
  }
 },
 "nbformat": 4,
 "nbformat_minor": 5
}
