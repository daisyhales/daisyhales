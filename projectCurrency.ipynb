{
 "cells": [
  {
   "cell_type": "code",
   "execution_count": 1,
   "id": "aa242be8-fd90-4210-b624-3748447134b5",
   "metadata": {},
   "outputs": [],
   "source": [
    "import requests"
   ]
  },
  {
   "cell_type": "code",
   "execution_count": 10,
   "id": "8ce9221f-c59e-4ad7-9f5e-dbc5fd6c8416",
   "metadata": {},
   "outputs": [],
   "source": [
    "url = 'https://open.er-api.com/v6/latest/USD'\n",
    "# print(type(requests.get(url).json()))\n",
    "json_dictionary = requests.get(url).json()\n",
    "# print(json_dictionary)\n",
    "# 'time_last_update_unix': 1657843351,\n",
    "#  'time_last_update_utc': 'Fri, 15 Jul 2022 00:02:31 +0000',\n",
    "#  'time_next_update_unix': 1657931501,\n",
    "#  'time_next_update_utc': 'Sat, 16 Jul 2022 00:31:41 +0000',\n",
    "#  'rates': {'USD': 1, - i think rates is a dictionary in a dictionary"
   ]
  },
  {
   "cell_type": "code",
   "execution_count": 4,
   "id": "fe9b64ac-6767-4323-9ef0-6aae057ceb85",
   "metadata": {},
   "outputs": [
    {
     "name": "stdin",
     "output_type": "stream",
     "text": [
      "Amount of money to convert: 1\n",
      "Currency type to convert from (in the form of 3 letters eg. GBP/gbp): rsd\n",
      "Currency type to convert to (in the form of 3 letters eg. GBP/gbp): rub\n"
     ]
    },
    {
     "name": "stdout",
     "output_type": "stream",
     "text": [
      "1.0 RSD = 0.8834001821751833 RUB\n",
      "(Date of last update to this exchange rate: Mon, 28 Aug 2023 00:02:32 +0000)\n"
     ]
    }
   ],
   "source": [
    "def currency_converter():\n",
    "    \"\"\"takes the inputs of the amount of money and the type to convert to and from and out puts the value in the new currency\"\"\"\n",
    "    import requests\n",
    "    url = 'https://open.er-api.com/v6/latest/USD'\n",
    "    json_dictionary = requests.get(url).json()\n",
    "    \n",
    "    currencies = json_dictionary['rates'] # dictionaries of the currencies \n",
    "    \n",
    "    amount_to_convert = (input(\"Amount of money to convert:\"))\n",
    "    try: \n",
    "        float(amount_to_convert)\n",
    "    except: \n",
    "        return \"Error: Amount of money to convert needs to be a float or integer\"\n",
    "    \n",
    "    convert_from = str(input(\"Currency type to convert from (in the form of 3 letters eg. GBP/gbp):\"))\n",
    "    if len(convert_from) != 3:\n",
    "        return ('Error: Currency type to convert from has to be 3 letters')\n",
    "    if convert_from.upper() not in currencies:\n",
    "        return ('Error: this is not a currency within the dictionary - cannot convert')\n",
    "    \n",
    "    convert_to = str(input(\"Currency type to convert to (in the form of 3 letters eg. GBP/gbp):\"))\n",
    "    if len(convert_to) != 3:\n",
    "        return ('Error: Currency type to convert from has to be 3 letters')\n",
    "    if convert_to.upper() not in currencies:\n",
    "        return ('Error: this is not a currency within the dictionary - cannot convert')\n",
    "    \n",
    "    in_USD = float(amount_to_convert) * (1/(currencies[convert_from.upper()]))\n",
    "    \n",
    "    in_new_currency = in_USD * currencies[convert_to.upper()]\n",
    "    \n",
    "    new_line = '\\n'\n",
    "    return print(f\"{float(amount_to_convert)} {convert_from.upper()} = {in_new_currency} {convert_to.upper()}\" '\\n' f\"(Date of last update to this exchange rate: {json_dictionary['time_last_update_utc']})\")\n",
    "\n",
    "\n",
    "currency_converter()"
   ]
  },
  {
   "cell_type": "code",
   "execution_count": null,
   "id": "b32da235-27fb-49bf-b70b-767994ddc1e8",
   "metadata": {},
   "outputs": [],
   "source": []
  },
  {
   "cell_type": "code",
   "execution_count": null,
   "id": "7a50decd-ff11-4cc5-b1a9-6fa56acb8e6f",
   "metadata": {},
   "outputs": [],
   "source": []
  }
 ],
 "metadata": {
  "kernelspec": {
   "display_name": "Python 3",
   "language": "python",
   "name": "python3"
  },
  "language_info": {
   "codemirror_mode": {
    "name": "ipython",
    "version": 3
   },
   "file_extension": ".py",
   "mimetype": "text/x-python",
   "name": "python",
   "nbconvert_exporter": "python",
   "pygments_lexer": "ipython3",
   "version": "3.8.8"
  }
 },
 "nbformat": 4,
 "nbformat_minor": 5
}
